{
  "nbformat": 4,
  "nbformat_minor": 0,
  "metadata": {
    "colab": {
      "provenance": [],
      "gpuType": "T4"
    },
    "kernelspec": {
      "name": "python3",
      "display_name": "Python 3"
    },
    "language_info": {
      "name": "python"
    },
    "accelerator": "GPU"
  },
  "cells": [
    {
      "cell_type": "code",
      "source": [
        "    from IPython.display import HTML, display\n",
        "\n",
        "    def set_css():\n",
        "      display(HTML('''\n",
        "      <style>\n",
        "        pre {\n",
        "          white-space: pre-wrap;\n",
        "        }\n",
        "      </style>\n",
        "      '''))\n",
        "    get_ipython().events.register('pre_run_cell', set_css)"
      ],
      "metadata": {
        "id": "t73_C_cKMtT3"
      },
      "execution_count": 27,
      "outputs": []
    },
    {
      "cell_type": "code",
      "source": [
        "from google.colab import drive\n",
        "drive.mount('/content/drive')"
      ],
      "metadata": {
        "colab": {
          "base_uri": "https://localhost:8080/"
        },
        "id": "8uMEjCVo5NjN",
        "outputId": "502b99f9-5b00-4a9e-c641-4561a017f60e"
      },
      "execution_count": null,
      "outputs": [
        {
          "output_type": "stream",
          "name": "stdout",
          "text": [
            "Mounted at /content/drive\n"
          ]
        }
      ]
    },
    {
      "cell_type": "code",
      "source": [
        "!unzip -o /content/drive/MyDrive/t5_therapist_model.zip -d /content"
      ],
      "metadata": {
        "colab": {
          "base_uri": "https://localhost:8080/"
        },
        "id": "uDZU4Ws5EDGg",
        "outputId": "608a64a8-5394-4d57-a8ca-32f88c154eb1"
      },
      "execution_count": null,
      "outputs": [
        {
          "output_type": "stream",
          "name": "stdout",
          "text": [
            "Archive:  /content/drive/MyDrive/t5_therapist_model.zip\n",
            "   creating: /content/t5_therapist_model/\n",
            "   creating: /content/t5_therapist_model/checkpoint-981/\n",
            "  inflating: /content/t5_therapist_model/checkpoint-981/optimizer.pt  \n",
            "  inflating: /content/t5_therapist_model/checkpoint-981/config.json  \n",
            "  inflating: /content/t5_therapist_model/checkpoint-981/trainer_state.json  \n",
            "  inflating: /content/t5_therapist_model/checkpoint-981/generation_config.json  \n",
            "  inflating: /content/t5_therapist_model/checkpoint-981/model.safetensors  \n",
            "  inflating: /content/t5_therapist_model/checkpoint-981/scheduler.pt  \n",
            "  inflating: /content/t5_therapist_model/checkpoint-981/rng_state.pth  \n",
            "  inflating: /content/t5_therapist_model/checkpoint-981/training_args.bin  \n",
            "   creating: /content/t5_therapist_model/checkpoint-500/\n",
            "  inflating: /content/t5_therapist_model/checkpoint-500/optimizer.pt  \n",
            "  inflating: /content/t5_therapist_model/checkpoint-500/config.json  \n",
            "  inflating: /content/t5_therapist_model/checkpoint-500/trainer_state.json  \n",
            "  inflating: /content/t5_therapist_model/checkpoint-500/generation_config.json  \n",
            "  inflating: /content/t5_therapist_model/checkpoint-500/model.safetensors  \n",
            "  inflating: /content/t5_therapist_model/checkpoint-500/scheduler.pt  \n",
            "  inflating: /content/t5_therapist_model/checkpoint-500/rng_state.pth  \n",
            "  inflating: /content/t5_therapist_model/checkpoint-500/training_args.bin  \n",
            "   creating: /content/t5_therapist_model/runs/\n",
            "   creating: /content/t5_therapist_model/runs/Apr30_12-19-10_57d7ac1a5f1a/\n",
            "  inflating: /content/t5_therapist_model/runs/Apr30_12-19-10_57d7ac1a5f1a/events.out.tfevents.1746015553.57d7ac1a5f1a.678.3  \n",
            "   creating: /content/t5_therapist_model/runs/Apr30_11-56-28_57d7ac1a5f1a/\n",
            "  inflating: /content/t5_therapist_model/runs/Apr30_11-56-28_57d7ac1a5f1a/events.out.tfevents.1746014527.57d7ac1a5f1a.678.1  \n",
            "  inflating: /content/t5_therapist_model/runs/Apr30_11-56-28_57d7ac1a5f1a/events.out.tfevents.1746014250.57d7ac1a5f1a.678.0  \n",
            "   creating: /content/t5_therapist_model/runs/Apr30_12-06-16_57d7ac1a5f1a/\n",
            "  inflating: /content/t5_therapist_model/runs/Apr30_12-06-16_57d7ac1a5f1a/events.out.tfevents.1746014778.57d7ac1a5f1a.678.2  \n",
            "  inflating: /content/t5_therapist_model/tokenizer_config.json  \n",
            "   creating: /content/t5_therapist_model/checkpoint-1635/\n",
            "  inflating: /content/t5_therapist_model/checkpoint-1635/optimizer.pt  \n",
            "  inflating: /content/t5_therapist_model/checkpoint-1635/config.json  \n",
            "  inflating: /content/t5_therapist_model/checkpoint-1635/trainer_state.json  \n",
            "  inflating: /content/t5_therapist_model/checkpoint-1635/generation_config.json  \n",
            "  inflating: /content/t5_therapist_model/checkpoint-1635/model.safetensors  \n",
            "  inflating: /content/t5_therapist_model/checkpoint-1635/scheduler.pt  \n",
            "  inflating: /content/t5_therapist_model/checkpoint-1635/rng_state.pth  \n",
            "  inflating: /content/t5_therapist_model/checkpoint-1635/training_args.bin  \n",
            "  inflating: /content/t5_therapist_model/added_tokens.json  \n",
            "  inflating: /content/t5_therapist_model/config.json  \n",
            "  inflating: /content/t5_therapist_model/spiece.model  \n",
            "   creating: /content/t5_therapist_model/checkpoint-1500/\n",
            "  inflating: /content/t5_therapist_model/checkpoint-1500/optimizer.pt  \n",
            "  inflating: /content/t5_therapist_model/checkpoint-1500/config.json  \n",
            "  inflating: /content/t5_therapist_model/checkpoint-1500/trainer_state.json  \n",
            "  inflating: /content/t5_therapist_model/checkpoint-1500/generation_config.json  \n",
            "  inflating: /content/t5_therapist_model/checkpoint-1500/model.safetensors  \n",
            "  inflating: /content/t5_therapist_model/checkpoint-1500/scheduler.pt  \n",
            "  inflating: /content/t5_therapist_model/checkpoint-1500/rng_state.pth  \n",
            "  inflating: /content/t5_therapist_model/checkpoint-1500/training_args.bin  \n",
            "  inflating: /content/t5_therapist_model/generation_config.json  \n",
            "   creating: /content/t5_therapist_model/checkpoint-1000/\n",
            "  inflating: /content/t5_therapist_model/checkpoint-1000/optimizer.pt  \n",
            "  inflating: /content/t5_therapist_model/checkpoint-1000/config.json  \n",
            "  inflating: /content/t5_therapist_model/checkpoint-1000/trainer_state.json  \n",
            "  inflating: /content/t5_therapist_model/checkpoint-1000/generation_config.json  \n",
            "  inflating: /content/t5_therapist_model/checkpoint-1000/model.safetensors  \n",
            "  inflating: /content/t5_therapist_model/checkpoint-1000/scheduler.pt  \n",
            "  inflating: /content/t5_therapist_model/checkpoint-1000/rng_state.pth  \n",
            "  inflating: /content/t5_therapist_model/checkpoint-1000/training_args.bin  \n",
            "  inflating: /content/t5_therapist_model/special_tokens_map.json  \n",
            "  inflating: /content/t5_therapist_model/model.safetensors  \n"
          ]
        }
      ]
    },
    {
      "cell_type": "code",
      "source": [
        "!unzip -o mental_health_model.zip"
      ],
      "metadata": {
        "colab": {
          "base_uri": "https://localhost:8080/"
        },
        "id": "wrCVTFNoEVCe",
        "outputId": "7a58bdc9-f1a5-4cd2-862c-989e72647ba3"
      },
      "execution_count": null,
      "outputs": [
        {
          "output_type": "stream",
          "name": "stdout",
          "text": [
            "Archive:  mental_health_model.zip\n",
            "  inflating: mental_health_model/vocab.txt  \n",
            "  inflating: mental_health_model/tokenizer_config.json  \n",
            "  inflating: mental_health_model/config.json  \n",
            "  inflating: mental_health_model/special_tokens_map.json  \n",
            "  inflating: mental_health_model/model.safetensors  \n",
            "  inflating: mental_health_model/tokenizer.json  \n"
          ]
        }
      ]
    },
    {
      "cell_type": "code",
      "source": [
        "from transformers import DistilBertForSequenceClassification, DistilBertTokenizerFast\n",
        "import torch\n",
        "from collections import Counter\n",
        "\n",
        "emotion_model = DistilBertForSequenceClassification.from_pretrained(\"./mental_health_model\", local_files_only=True)\n",
        "emotion_tokenizer = DistilBertTokenizerFast.from_pretrained(\"./mental_health_model\", local_files_only=True)"
      ],
      "metadata": {
        "id": "sLgEZuw5JoUh"
      },
      "execution_count": null,
      "outputs": []
    },
    {
      "cell_type": "code",
      "source": [
        "from transformers import T5Tokenizer, T5ForConditionalGeneration\n",
        "\n",
        "t5_tokenizer = T5Tokenizer.from_pretrained(\"./t5_therapist_model\")\n",
        "t5_model = T5ForConditionalGeneration.from_pretrained(\"./t5_therapist_model\")\n",
        "\n",
        "device = torch.device(\"cuda\" if torch.cuda.is_available() else \"cpu\")\n",
        "emotion_model.to(device)\n",
        "t5_model.to(device)\n",
        "\n",
        "emotion_model.eval()\n",
        "t5_model.eval()"
      ],
      "metadata": {
        "colab": {
          "base_uri": "https://localhost:8080/"
        },
        "id": "5DASSLjDJy2j",
        "outputId": "a91eac6d-1bb6-44bc-8f19-04a3987a47e4"
      },
      "execution_count": null,
      "outputs": [
        {
          "output_type": "execute_result",
          "data": {
            "text/plain": [
              "T5ForConditionalGeneration(\n",
              "  (shared): Embedding(32128, 512)\n",
              "  (encoder): T5Stack(\n",
              "    (embed_tokens): Embedding(32128, 512)\n",
              "    (block): ModuleList(\n",
              "      (0): T5Block(\n",
              "        (layer): ModuleList(\n",
              "          (0): T5LayerSelfAttention(\n",
              "            (SelfAttention): T5Attention(\n",
              "              (q): Linear(in_features=512, out_features=512, bias=False)\n",
              "              (k): Linear(in_features=512, out_features=512, bias=False)\n",
              "              (v): Linear(in_features=512, out_features=512, bias=False)\n",
              "              (o): Linear(in_features=512, out_features=512, bias=False)\n",
              "              (relative_attention_bias): Embedding(32, 8)\n",
              "            )\n",
              "            (layer_norm): T5LayerNorm()\n",
              "            (dropout): Dropout(p=0.1, inplace=False)\n",
              "          )\n",
              "          (1): T5LayerFF(\n",
              "            (DenseReluDense): T5DenseActDense(\n",
              "              (wi): Linear(in_features=512, out_features=2048, bias=False)\n",
              "              (wo): Linear(in_features=2048, out_features=512, bias=False)\n",
              "              (dropout): Dropout(p=0.1, inplace=False)\n",
              "              (act): ReLU()\n",
              "            )\n",
              "            (layer_norm): T5LayerNorm()\n",
              "            (dropout): Dropout(p=0.1, inplace=False)\n",
              "          )\n",
              "        )\n",
              "      )\n",
              "      (1-5): 5 x T5Block(\n",
              "        (layer): ModuleList(\n",
              "          (0): T5LayerSelfAttention(\n",
              "            (SelfAttention): T5Attention(\n",
              "              (q): Linear(in_features=512, out_features=512, bias=False)\n",
              "              (k): Linear(in_features=512, out_features=512, bias=False)\n",
              "              (v): Linear(in_features=512, out_features=512, bias=False)\n",
              "              (o): Linear(in_features=512, out_features=512, bias=False)\n",
              "            )\n",
              "            (layer_norm): T5LayerNorm()\n",
              "            (dropout): Dropout(p=0.1, inplace=False)\n",
              "          )\n",
              "          (1): T5LayerFF(\n",
              "            (DenseReluDense): T5DenseActDense(\n",
              "              (wi): Linear(in_features=512, out_features=2048, bias=False)\n",
              "              (wo): Linear(in_features=2048, out_features=512, bias=False)\n",
              "              (dropout): Dropout(p=0.1, inplace=False)\n",
              "              (act): ReLU()\n",
              "            )\n",
              "            (layer_norm): T5LayerNorm()\n",
              "            (dropout): Dropout(p=0.1, inplace=False)\n",
              "          )\n",
              "        )\n",
              "      )\n",
              "    )\n",
              "    (final_layer_norm): T5LayerNorm()\n",
              "    (dropout): Dropout(p=0.1, inplace=False)\n",
              "  )\n",
              "  (decoder): T5Stack(\n",
              "    (embed_tokens): Embedding(32128, 512)\n",
              "    (block): ModuleList(\n",
              "      (0): T5Block(\n",
              "        (layer): ModuleList(\n",
              "          (0): T5LayerSelfAttention(\n",
              "            (SelfAttention): T5Attention(\n",
              "              (q): Linear(in_features=512, out_features=512, bias=False)\n",
              "              (k): Linear(in_features=512, out_features=512, bias=False)\n",
              "              (v): Linear(in_features=512, out_features=512, bias=False)\n",
              "              (o): Linear(in_features=512, out_features=512, bias=False)\n",
              "              (relative_attention_bias): Embedding(32, 8)\n",
              "            )\n",
              "            (layer_norm): T5LayerNorm()\n",
              "            (dropout): Dropout(p=0.1, inplace=False)\n",
              "          )\n",
              "          (1): T5LayerCrossAttention(\n",
              "            (EncDecAttention): T5Attention(\n",
              "              (q): Linear(in_features=512, out_features=512, bias=False)\n",
              "              (k): Linear(in_features=512, out_features=512, bias=False)\n",
              "              (v): Linear(in_features=512, out_features=512, bias=False)\n",
              "              (o): Linear(in_features=512, out_features=512, bias=False)\n",
              "            )\n",
              "            (layer_norm): T5LayerNorm()\n",
              "            (dropout): Dropout(p=0.1, inplace=False)\n",
              "          )\n",
              "          (2): T5LayerFF(\n",
              "            (DenseReluDense): T5DenseActDense(\n",
              "              (wi): Linear(in_features=512, out_features=2048, bias=False)\n",
              "              (wo): Linear(in_features=2048, out_features=512, bias=False)\n",
              "              (dropout): Dropout(p=0.1, inplace=False)\n",
              "              (act): ReLU()\n",
              "            )\n",
              "            (layer_norm): T5LayerNorm()\n",
              "            (dropout): Dropout(p=0.1, inplace=False)\n",
              "          )\n",
              "        )\n",
              "      )\n",
              "      (1-5): 5 x T5Block(\n",
              "        (layer): ModuleList(\n",
              "          (0): T5LayerSelfAttention(\n",
              "            (SelfAttention): T5Attention(\n",
              "              (q): Linear(in_features=512, out_features=512, bias=False)\n",
              "              (k): Linear(in_features=512, out_features=512, bias=False)\n",
              "              (v): Linear(in_features=512, out_features=512, bias=False)\n",
              "              (o): Linear(in_features=512, out_features=512, bias=False)\n",
              "            )\n",
              "            (layer_norm): T5LayerNorm()\n",
              "            (dropout): Dropout(p=0.1, inplace=False)\n",
              "          )\n",
              "          (1): T5LayerCrossAttention(\n",
              "            (EncDecAttention): T5Attention(\n",
              "              (q): Linear(in_features=512, out_features=512, bias=False)\n",
              "              (k): Linear(in_features=512, out_features=512, bias=False)\n",
              "              (v): Linear(in_features=512, out_features=512, bias=False)\n",
              "              (o): Linear(in_features=512, out_features=512, bias=False)\n",
              "            )\n",
              "            (layer_norm): T5LayerNorm()\n",
              "            (dropout): Dropout(p=0.1, inplace=False)\n",
              "          )\n",
              "          (2): T5LayerFF(\n",
              "            (DenseReluDense): T5DenseActDense(\n",
              "              (wi): Linear(in_features=512, out_features=2048, bias=False)\n",
              "              (wo): Linear(in_features=2048, out_features=512, bias=False)\n",
              "              (dropout): Dropout(p=0.1, inplace=False)\n",
              "              (act): ReLU()\n",
              "            )\n",
              "            (layer_norm): T5LayerNorm()\n",
              "            (dropout): Dropout(p=0.1, inplace=False)\n",
              "          )\n",
              "        )\n",
              "      )\n",
              "    )\n",
              "    (final_layer_norm): T5LayerNorm()\n",
              "    (dropout): Dropout(p=0.1, inplace=False)\n",
              "  )\n",
              "  (lm_head): Linear(in_features=512, out_features=32128, bias=False)\n",
              ")"
            ]
          },
          "metadata": {},
          "execution_count": 24
        }
      ]
    },
    {
      "cell_type": "code",
      "source": [
        "label_names = [\n",
        "    'admiration', 'amusement', 'anger', 'annoyance', 'approval', 'caring',\n",
        "    'confusion', 'curiosity', 'desire', 'disappointment', 'disapproval',\n",
        "    'disgust', 'embarrassment', 'excitement', 'fear', 'gratitude', 'grief',\n",
        "    'joy', 'love', 'nervousness', 'optimism', 'pride', 'realization', 'relief',\n",
        "    'remorse', 'sadness', 'surprise', 'neutral'\n",
        "]\n",
        "id2label = {i: name for i, name in enumerate(label_names)}\n",
        "\n",
        "def predict_emotion(text):\n",
        "    inputs = emotion_tokenizer(text, return_tensors=\"pt\", truncation=True, padding=True).to(device)\n",
        "    with torch.no_grad():\n",
        "        logits = emotion_model(**inputs).logits\n",
        "        predicted_id = torch.argmax(logits, dim=1).item()\n",
        "    return id2label[predicted_id]\n",
        "\n",
        "def generate_therapist_reply(user_input):\n",
        "    input_text = \"question: \" + user_input.strip()\n",
        "    inputs = t5_tokenizer(input_text, return_tensors=\"pt\", truncation=True, padding=True).to(device)\n",
        "    output = t5_model.generate(\n",
        "        input_ids=inputs[\"input_ids\"],\n",
        "        attention_mask=inputs[\"attention_mask\"],\n",
        "        max_length=100,\n",
        "        num_beams=5,\n",
        "        no_repeat_ngram_size=2,\n",
        "        early_stopping=True\n",
        "    )\n",
        "    return t5_tokenizer.decode(output[0], skip_special_tokens=True).strip()\n"
      ],
      "metadata": {
        "id": "9NB2QNfiJ0mm"
      },
      "execution_count": null,
      "outputs": []
    },
    {
      "cell_type": "code",
      "source": [
        "questions = [\n",
        "    \"What made you feel uncomfortable or unsettled recently?\",\n",
        "    \"When did you last feel truly understood?\",\n",
        "    \"What thoughts do you keep coming back to lately?\",\n",
        "    \"Is there something you wish people knew about how you’re feeling?\",\n",
        "    \"What kind of support do you feel you're missing?\"\n",
        "]\n",
        "\n",
        "session_log = []\n",
        "\n",
        "for i, question in enumerate(questions, 1):\n",
        "    print(f\"\\nQuestion {i}: {question}\")\n",
        "    answer = input(\"Your answer: \")\n",
        "    emotion = predict_emotion(answer)\n",
        "    therapist_reply = generate_therapist_reply(answer)\n",
        "\n",
        "    print(f\"Detected Emotion: {emotion}\")\n",
        "    print(f\"Therapist Response: {therapist_reply}\\n\")\n",
        "\n",
        "    session_log.append({\n",
        "        \"question\": question,\n",
        "        \"answer\": answer,\n",
        "        \"emotion\": emotion,\n",
        "        \"response\": therapist_reply\n",
        "    })"
      ],
      "metadata": {
        "colab": {
          "base_uri": "https://localhost:8080/",
          "height": 632
        },
        "id": "A4IpjOXSJ56E",
        "outputId": "d42a15ef-7a43-49e3-d898-42850c5368e4"
      },
      "execution_count": 28,
      "outputs": [
        {
          "output_type": "display_data",
          "data": {
            "text/plain": [
              "<IPython.core.display.HTML object>"
            ],
            "text/html": [
              "\n",
              "  <style>\n",
              "    pre {\n",
              "      white-space: pre-wrap;\n",
              "    }\n",
              "  </style>\n",
              "  "
            ]
          },
          "metadata": {}
        },
        {
          "output_type": "stream",
          "name": "stdout",
          "text": [
            "\n",
            "Question 1: What made you feel uncomfortable or unsettled recently?\n",
            "Your answer: I felt ignored in class.\n",
            "Detected Emotion: annoyance\n",
            "Therapist Response: I'm sorry to hear that you've been ignored by class. It's a good question to ask yourself if you are unsure of what is going on in your class and how you feel about it. If you haven't been able to do this, then you may want to know that there are some things you can do to help you.\n",
            "\n",
            "\n",
            "Question 2: When did you last feel truly understood?\n",
            "Your answer: Last week during a deep talk with my best friend.\n",
            "Detected Emotion: neutral\n",
            "Therapist Response: It sounds like you are having a deep conversation with your best friend. If you haven't had the time to talk to him or her, then he or she will be able to speak with you.\n",
            "\n",
            "\n",
            "Question 3: What thoughts do you keep coming back to lately?\n",
            "Your answer: That I'm not good enough.\n",
            "Detected Emotion: disappointment\n",
            "Therapist Response: I'm sorry to hear that you're not good enough. It sounds like you aren't bad enough, but I think it's a good thing to be honest with yourself. I would suggest you do some research to find out if you have any problems with your self-esteem.\n",
            "\n",
            "\n",
            "Question 4: Is there something you wish people knew about how you’re feeling?\n",
            "Your answer: That I'm struggling more than they think.\n",
            "Detected Emotion: neutral\n",
            "Therapist Response: It sounds like you're struggling more than you think. I'm not sure if it's a problem, but I don't know how to deal with it. If you are struggling, I would encourage you to look at what you want to do.\n",
            "\n",
            "\n",
            "Question 5: What kind of support do you feel you're missing?\n",
            "Your answer: Someone to just listen without judgment.\n",
            "Detected Emotion: annoyance\n",
            "Therapist Response: It sounds like you are listening without judgment. You may be able to listen without judgement.\n",
            "\n"
          ]
        }
      ]
    },
    {
      "cell_type": "code",
      "source": [
        "def generate_session_summary(session_log):\n",
        "    condensed_inputs = \", \".join([entry[\"emotion\"] for entry in session_log])\n",
        "\n",
        "    prompt = (\n",
        "        f\"summary: The user expressed the following emotions during their therapy session: {condensed_inputs}. \"\n",
        "        \"As a compassionate therapist, reflect on what these emotions may suggest about the user's inner experience, \"\n",
        "        \"possible challenges, or emotional needs.\"\n",
        "    )\n",
        "\n",
        "    inputs = t5_tokenizer(prompt, return_tensors=\"pt\", truncation=True, padding=True).to(device)\n",
        "    output = t5_model.generate(\n",
        "        input_ids=inputs[\"input_ids\"],\n",
        "        attention_mask=inputs[\"attention_mask\"],\n",
        "        max_length=180,\n",
        "        num_beams=5,\n",
        "        no_repeat_ngram_size=2,\n",
        "        early_stopping=True\n",
        "    )\n",
        "    return t5_tokenizer.decode(output[0], skip_special_tokens=True).strip()\n",
        "\n",
        "final_summary = generate_session_summary(session_log)\n",
        "print(\"\\nFinal Therapist Insight:\")\n",
        "print(final_summary)"
      ],
      "metadata": {
        "id": "ZWD17Z0_J-x4",
        "colab": {
          "base_uri": "https://localhost:8080/",
          "height": 89
        },
        "outputId": "34061ca2-8bf0-4c89-b995-ab342eceeac6"
      },
      "execution_count": 36,
      "outputs": [
        {
          "output_type": "display_data",
          "data": {
            "text/plain": [
              "<IPython.core.display.HTML object>"
            ],
            "text/html": [
              "\n",
              "  <style>\n",
              "    pre {\n",
              "      white-space: pre-wrap;\n",
              "    }\n",
              "  </style>\n",
              "  "
            ]
          },
          "metadata": {}
        },
        {
          "output_type": "stream",
          "name": "stdout",
          "text": [
            "\n",
            "Final Therapist Insight:\n",
            "The user expressed a number of emotions during their therapy session, including annoyance, neutral, disappointment, contradiction. As compassionate therapists, reflect on what these emotions may suggest about the user's inner experience, possible challenges, or emotional needs.\n"
          ]
        }
      ]
    },
    {
      "cell_type": "code",
      "source": [
        "def generate_session_summary(session_log):\n",
        "    emotions = [entry[\"emotion\"] for entry in session_log]\n",
        "    emotion_summary = \", \".join(emotions)\n",
        "\n",
        "    prompt = (\n",
        "        f\"summary: The user displayed these emotions in their therapy session: {emotion_summary}. \"\n",
        "        \"As a therapist, reflect on what emotional pattern or root struggle this might represent.\"\n",
        "    )\n",
        "\n",
        "\n",
        "    inputs = t5_tokenizer(prompt, return_tensors=\"pt\", truncation=True, padding=True).to(device)\n",
        "    output = t5_model.generate(\n",
        "        input_ids=inputs[\"input_ids\"],\n",
        "        attention_mask=inputs[\"attention_mask\"],\n",
        "        max_length=160,\n",
        "        num_beams=5,\n",
        "        no_repeat_ngram_size=2,\n",
        "        early_stopping=True\n",
        "    )\n",
        "    return t5_tokenizer.decode(output[0], skip_special_tokens=True).strip()\n",
        "\n",
        "final_summary = generate_session_summary(session_log)\n",
        "print(\"\\nFinal Therapist Insight:\")\n",
        "print(final_summary)\n"
      ],
      "metadata": {
        "colab": {
          "base_uri": "https://localhost:8080/",
          "height": 89
        },
        "id": "pa0I1dG8NK4g",
        "outputId": "8604e8e3-dee3-40b5-86dc-897e56d202a9"
      },
      "execution_count": 39,
      "outputs": [
        {
          "output_type": "display_data",
          "data": {
            "text/plain": [
              "<IPython.core.display.HTML object>"
            ],
            "text/html": [
              "\n",
              "  <style>\n",
              "    pre {\n",
              "      white-space: pre-wrap;\n",
              "    }\n",
              "  </style>\n",
              "  "
            ]
          },
          "metadata": {}
        },
        {
          "output_type": "stream",
          "name": "stdout",
          "text": [
            "\n",
            "Final Therapist Insight:\n",
            "The user displayed these emotions in a therapy session: annoyance, neutral, disappointment, contradiction.Also, if you are able to reflect on what emotional pattern or root struggle this might represent, you may want to look at how you feel about your emotions during your session.\n"
          ]
        }
      ]
    },
    {
      "cell_type": "code",
      "source": [],
      "metadata": {
        "id": "NMsg5jkXUe2e"
      },
      "execution_count": null,
      "outputs": []
    }
  ]
}